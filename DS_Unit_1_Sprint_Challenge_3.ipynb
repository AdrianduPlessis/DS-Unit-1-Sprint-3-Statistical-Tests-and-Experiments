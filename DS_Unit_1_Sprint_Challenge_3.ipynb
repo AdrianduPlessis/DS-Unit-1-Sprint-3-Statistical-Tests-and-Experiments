{
  "nbformat": 4,
  "nbformat_minor": 0,
  "metadata": {
    "colab": {
      "name": "DS_Unit_1_Sprint_Challenge_3.ipynb",
      "version": "0.3.2",
      "provenance": [],
      "collapsed_sections": [],
      "include_colab_link": true
    },
    "kernelspec": {
      "name": "python3",
      "display_name": "Python 3"
    }
  },
  "cells": [
    {
      "cell_type": "markdown",
      "metadata": {
        "id": "view-in-github",
        "colab_type": "text"
      },
      "source": [
        "<a href=\"https://colab.research.google.com/github/AdrianduPlessis/DS-Unit-1-Sprint-3-Statistical-Tests-and-Experiments/blob/master/DS_Unit_1_Sprint_Challenge_3.ipynb\" target=\"_parent\"><img src=\"https://colab.research.google.com/assets/colab-badge.svg\" alt=\"Open In Colab\"/></a>"
      ]
    },
    {
      "cell_type": "markdown",
      "metadata": {
        "id": "NooAiTdnafkz",
        "colab_type": "text"
      },
      "source": [
        "# Data Science Unit 1 Sprint Challenge 4\n",
        "\n",
        "## Exploring Data, Testing Hypotheses\n",
        "\n",
        "In this sprint challenge you will look at a dataset of people being approved or rejected for credit.\n",
        "\n",
        "https://archive.ics.uci.edu/ml/datasets/Credit+Approval\n",
        "\n",
        "Data Set Information: This file concerns credit card applications. All attribute names and values have been changed to meaningless symbols to protect confidentiality of the data. This dataset is interesting because there is a good mix of attributes -- continuous, nominal with small numbers of values, and nominal with larger numbers of values. There are also a few missing values.\n",
        "\n",
        "Attribute Information:\n",
        "- A1: b, a.\n",
        "- A2: continuous.\n",
        "- A3: continuous.\n",
        "- A4: u, y, l, t.\n",
        "- A5: g, p, gg.\n",
        "- A6: c, d, cc, i, j, k, m, r, q, w, x, e, aa, ff.\n",
        "- A7: v, h, bb, j, n, z, dd, ff, o.\n",
        "- A8: continuous.\n",
        "- A9: t, f.\n",
        "- A10: t, f.\n",
        "- A11: continuous.\n",
        "- A12: t, f.\n",
        "- A13: g, p, s.\n",
        "- A14: continuous.\n",
        "- A15: continuous.\n",
        "- A16: +,- (class attribute)\n",
        "\n",
        "Yes, most of that doesn't mean anything. A16 (the class attribute) is the most interesting, as it separates the 307 approved cases from the 383 rejected cases. The remaining variables have been obfuscated for privacy - a challenge you may have to deal with in your data science career.\n",
        "\n",
        "Sprint challenges are evaluated based on satisfactory completion of each part. It is suggested you work through it in order, getting each aspect reasonably working, before trying to deeply explore, iterate, or refine any given step. Once you get to the end, if you want to go back and improve things, go for it!"
      ]
    },
    {
      "cell_type": "markdown",
      "metadata": {
        "id": "5wch6ksCbJtZ",
        "colab_type": "text"
      },
      "source": [
        "## Part 1 - Load and validate the data\n",
        "\n",
        "- Load the data as a `pandas` data frame.\n",
        "- Validate that it has the appropriate number of observations (you can check the raw file, and also read the dataset description from UCI).\n",
        "- UCI says there should be missing data - check, and if necessary change the data so pandas recognizes it as na\n",
        "- Make sure that the loaded features are of the types described above (continuous values should be treated as float), and correct as necessary\n",
        "\n",
        "This is review, but skills that you'll use at the start of any data exploration. Further, you may have to do some investigation to figure out which file to load from - that is part of the puzzle."
      ]
    },
    {
      "cell_type": "code",
      "metadata": {
        "id": "Q79xDLckzibS",
        "colab_type": "code",
        "colab": {}
      },
      "source": [
        "#Global imports\n",
        "import pandas as pd\n",
        "import numpy as np\n",
        "import matplotlib.pyplot as plt\n",
        "from scipy.stats import ttest_ind, ttest_ind_from_stats, ttest_rel\n",
        "import scipy.stats as stats"
      ],
      "execution_count": 0,
      "outputs": []
    },
    {
      "cell_type": "code",
      "metadata": {
        "id": "kyPonQr0HyaP",
        "colab_type": "code",
        "colab": {
          "base_uri": "https://localhost:8080/",
          "height": 0
        },
        "outputId": "05343221-4924-4ad7-d90b-3b459cc36f3c"
      },
      "source": [
        "#Load Data\n",
        "headers = ['A1', 'A2', 'A3', 'A4', 'A5', 'A6', 'A7', 'A8', 'A9', 'A10', 'A11', 'A12',\n",
        "         'A13', 'A14', 'A15', 'A16']\n",
        "\n",
        "df_raw = pd.read_csv('https://archive.ics.uci.edu/ml/machine-learning-databases/credit-screening/crx.data', names = headers)\n",
        "\n",
        "#Validate Shape\n",
        "assert(df_raw.shape == (690, 16)) #UCI says 15 attribures, but the 'names' identifies 16.\n",
        "\n",
        "#Verify NaN recognition\n",
        "df_raw.isna().sum()"
      ],
      "execution_count": 2,
      "outputs": [
        {
          "output_type": "execute_result",
          "data": {
            "text/plain": [
              "A1     0\n",
              "A2     0\n",
              "A3     0\n",
              "A4     0\n",
              "A5     0\n",
              "A6     0\n",
              "A7     0\n",
              "A8     0\n",
              "A9     0\n",
              "A10    0\n",
              "A11    0\n",
              "A12    0\n",
              "A13    0\n",
              "A14    0\n",
              "A15    0\n",
              "A16    0\n",
              "dtype: int64"
            ]
          },
          "metadata": {
            "tags": []
          },
          "execution_count": 2
        }
      ]
    },
    {
      "cell_type": "markdown",
      "metadata": {
        "id": "ohFuzZj8Kx2u",
        "colab_type": "text"
      },
      "source": [
        "Inconsistent with UCI listing and the 'crx.names' file specifies:\n",
        "\n",
        "\"Missing Attribute Values:\n",
        "    37 cases (5%) have one or more missing values.  The missing\n",
        "    values from particular attributes are:\n",
        "\n",
        "    A1:  12\n",
        "    A2:  12\n",
        "    A4:   6\n",
        "    A5:   6\n",
        "    A6:   9\n",
        "    A7:   9\n",
        "    A14: 13\""
      ]
    },
    {
      "cell_type": "code",
      "metadata": {
        "id": "O3Iw7JBVLAER",
        "colab_type": "code",
        "colab": {
          "base_uri": "https://localhost:8080/",
          "height": 0
        },
        "outputId": "6812bbd6-b3ec-42df-8025-ad09871d5cec"
      },
      "source": [
        "#checking for value in A1 that occors 12 times\n",
        "df_raw['A1'].value_counts()"
      ],
      "execution_count": 3,
      "outputs": [
        {
          "output_type": "execute_result",
          "data": {
            "text/plain": [
              "b    468\n",
              "a    210\n",
              "?     12\n",
              "Name: A1, dtype: int64"
            ]
          },
          "metadata": {
            "tags": []
          },
          "execution_count": 3
        }
      ]
    },
    {
      "cell_type": "markdown",
      "metadata": {
        "id": "t8XKGtKULdpI",
        "colab_type": "text"
      },
      "source": [
        "'?' must be the NaN. Redo import accordingly"
      ]
    },
    {
      "cell_type": "code",
      "metadata": {
        "id": "-OhYFrfVLnvL",
        "colab_type": "code",
        "colab": {}
      },
      "source": [
        "df_crx = pd.read_csv('https://archive.ics.uci.edu/ml/machine-learning-databases/credit-screening/crx.data', names = headers, na_values='?')"
      ],
      "execution_count": 0,
      "outputs": []
    },
    {
      "cell_type": "code",
      "metadata": {
        "id": "6upoP-qqL8VQ",
        "colab_type": "code",
        "colab": {
          "base_uri": "https://localhost:8080/",
          "height": 0
        },
        "outputId": "3ae52779-c4b4-459c-f1da-1693e5b99e3f"
      },
      "source": [
        "#Confirm Data Types\n",
        "#Expecting floats in: A2, A3, A8, A11, A14, A15\n",
        "df_crx.dtypes"
      ],
      "execution_count": 5,
      "outputs": [
        {
          "output_type": "execute_result",
          "data": {
            "text/plain": [
              "A1      object\n",
              "A2     float64\n",
              "A3     float64\n",
              "A4      object\n",
              "A5      object\n",
              "A6      object\n",
              "A7      object\n",
              "A8     float64\n",
              "A9      object\n",
              "A10     object\n",
              "A11      int64\n",
              "A12     object\n",
              "A13     object\n",
              "A14    float64\n",
              "A15      int64\n",
              "A16     object\n",
              "dtype: object"
            ]
          },
          "metadata": {
            "tags": []
          },
          "execution_count": 5
        }
      ]
    },
    {
      "cell_type": "markdown",
      "metadata": {
        "id": "5p7VLy5NM0s_",
        "colab_type": "text"
      },
      "source": [
        "Seems consistent. Checking A15 (int not float) for reasonability"
      ]
    },
    {
      "cell_type": "code",
      "metadata": {
        "id": "gQOUKITUM8c4",
        "colab_type": "code",
        "colab": {
          "base_uri": "https://localhost:8080/",
          "height": 0
        },
        "outputId": "775c334b-800b-4a23-b622-054cb93e0bd0"
      },
      "source": [
        "df_crx.head()\n"
      ],
      "execution_count": 6,
      "outputs": [
        {
          "output_type": "execute_result",
          "data": {
            "text/html": [
              "<div>\n",
              "<style scoped>\n",
              "    .dataframe tbody tr th:only-of-type {\n",
              "        vertical-align: middle;\n",
              "    }\n",
              "\n",
              "    .dataframe tbody tr th {\n",
              "        vertical-align: top;\n",
              "    }\n",
              "\n",
              "    .dataframe thead th {\n",
              "        text-align: right;\n",
              "    }\n",
              "</style>\n",
              "<table border=\"1\" class=\"dataframe\">\n",
              "  <thead>\n",
              "    <tr style=\"text-align: right;\">\n",
              "      <th></th>\n",
              "      <th>A1</th>\n",
              "      <th>A2</th>\n",
              "      <th>A3</th>\n",
              "      <th>A4</th>\n",
              "      <th>A5</th>\n",
              "      <th>A6</th>\n",
              "      <th>A7</th>\n",
              "      <th>A8</th>\n",
              "      <th>A9</th>\n",
              "      <th>A10</th>\n",
              "      <th>A11</th>\n",
              "      <th>A12</th>\n",
              "      <th>A13</th>\n",
              "      <th>A14</th>\n",
              "      <th>A15</th>\n",
              "      <th>A16</th>\n",
              "    </tr>\n",
              "  </thead>\n",
              "  <tbody>\n",
              "    <tr>\n",
              "      <th>0</th>\n",
              "      <td>b</td>\n",
              "      <td>30.83</td>\n",
              "      <td>0.000</td>\n",
              "      <td>u</td>\n",
              "      <td>g</td>\n",
              "      <td>w</td>\n",
              "      <td>v</td>\n",
              "      <td>1.25</td>\n",
              "      <td>t</td>\n",
              "      <td>t</td>\n",
              "      <td>1</td>\n",
              "      <td>f</td>\n",
              "      <td>g</td>\n",
              "      <td>202.0</td>\n",
              "      <td>0</td>\n",
              "      <td>+</td>\n",
              "    </tr>\n",
              "    <tr>\n",
              "      <th>1</th>\n",
              "      <td>a</td>\n",
              "      <td>58.67</td>\n",
              "      <td>4.460</td>\n",
              "      <td>u</td>\n",
              "      <td>g</td>\n",
              "      <td>q</td>\n",
              "      <td>h</td>\n",
              "      <td>3.04</td>\n",
              "      <td>t</td>\n",
              "      <td>t</td>\n",
              "      <td>6</td>\n",
              "      <td>f</td>\n",
              "      <td>g</td>\n",
              "      <td>43.0</td>\n",
              "      <td>560</td>\n",
              "      <td>+</td>\n",
              "    </tr>\n",
              "    <tr>\n",
              "      <th>2</th>\n",
              "      <td>a</td>\n",
              "      <td>24.50</td>\n",
              "      <td>0.500</td>\n",
              "      <td>u</td>\n",
              "      <td>g</td>\n",
              "      <td>q</td>\n",
              "      <td>h</td>\n",
              "      <td>1.50</td>\n",
              "      <td>t</td>\n",
              "      <td>f</td>\n",
              "      <td>0</td>\n",
              "      <td>f</td>\n",
              "      <td>g</td>\n",
              "      <td>280.0</td>\n",
              "      <td>824</td>\n",
              "      <td>+</td>\n",
              "    </tr>\n",
              "    <tr>\n",
              "      <th>3</th>\n",
              "      <td>b</td>\n",
              "      <td>27.83</td>\n",
              "      <td>1.540</td>\n",
              "      <td>u</td>\n",
              "      <td>g</td>\n",
              "      <td>w</td>\n",
              "      <td>v</td>\n",
              "      <td>3.75</td>\n",
              "      <td>t</td>\n",
              "      <td>t</td>\n",
              "      <td>5</td>\n",
              "      <td>t</td>\n",
              "      <td>g</td>\n",
              "      <td>100.0</td>\n",
              "      <td>3</td>\n",
              "      <td>+</td>\n",
              "    </tr>\n",
              "    <tr>\n",
              "      <th>4</th>\n",
              "      <td>b</td>\n",
              "      <td>20.17</td>\n",
              "      <td>5.625</td>\n",
              "      <td>u</td>\n",
              "      <td>g</td>\n",
              "      <td>w</td>\n",
              "      <td>v</td>\n",
              "      <td>1.71</td>\n",
              "      <td>t</td>\n",
              "      <td>f</td>\n",
              "      <td>0</td>\n",
              "      <td>f</td>\n",
              "      <td>s</td>\n",
              "      <td>120.0</td>\n",
              "      <td>0</td>\n",
              "      <td>+</td>\n",
              "    </tr>\n",
              "  </tbody>\n",
              "</table>\n",
              "</div>"
            ],
            "text/plain": [
              "  A1     A2     A3 A4 A5 A6 A7    A8 A9 A10  A11 A12 A13    A14  A15 A16\n",
              "0  b  30.83  0.000  u  g  w  v  1.25  t   t    1   f   g  202.0    0   +\n",
              "1  a  58.67  4.460  u  g  q  h  3.04  t   t    6   f   g   43.0  560   +\n",
              "2  a  24.50  0.500  u  g  q  h  1.50  t   f    0   f   g  280.0  824   +\n",
              "3  b  27.83  1.540  u  g  w  v  3.75  t   t    5   t   g  100.0    3   +\n",
              "4  b  20.17  5.625  u  g  w  v  1.71  t   f    0   f   s  120.0    0   +"
            ]
          },
          "metadata": {
            "tags": []
          },
          "execution_count": 6
        }
      ]
    },
    {
      "cell_type": "markdown",
      "metadata": {
        "id": "vAlhYyIsNX-_",
        "colab_type": "text"
      },
      "source": [
        "int value seems reasonable"
      ]
    },
    {
      "cell_type": "markdown",
      "metadata": {
        "id": "G7rLytbrO38L",
        "colab_type": "text"
      },
      "source": [
        "## Part 2 - Exploring data, Testing hypotheses\n",
        "\n",
        "The only thing we really know about this data is that A16 is the class label. Besides that, we have 6 continuous (float) features and 9 categorical features.\n",
        "\n",
        "Explore the data: you can use whatever approach (tables, utility functions, visualizations) to get an impression of the distributions and relationships of the variables. In general, your goal is to understand how the features are different when **grouped by the two class labels (`+` and `-`).**\n",
        "\n",
        "For the 6 continuous features, how are they different when split between the two class labels? **Choose two features to run t-tests (again split by class label)** - specifically, select one feature that is *extremely* different between the classes, and another feature that is notably less different (though perhaps still \"statistically significantly\" different). *italicized text* You may have to explore more than two features to do this.\n",
        "\n",
        "For the categorical features, explore by creating \"cross tabs\" (aka [contingency tables](https://en.wikipedia.org/wiki/Contingency_table)) between them and the class label, and apply the Chi-squared test to them. [pandas.crosstab](http://pandas.pydata.org/pandas-docs/stable/reference/api/pandas.crosstab.html) can create contingency tables, and [scipy.stats.chi2_contingency](https://docs.scipy.org/doc/scipy/reference/generated/scipy.stats.chi2_contingency.html) can calculate the Chi-squared statistic for them.\n",
        "\n",
        "There are 9 categorical features - as with the t-test, try to find one where the Chi-squared test returns an extreme result (rejecting the null that the data are independent), and one where it is less extreme.\n",
        "\n",
        "**NOTE** - \"less extreme\" just means smaller test statistic/larger p-value. Even the least extreme differences may be strongly statistically significant.\n",
        "\n",
        "Your *main* goal is the hypothesis tests, so don't spend too much time on the exploration/visualization piece. That is just a means to an end - use simple visualizations, such as boxplots or a scatter matrix (both built in to pandas), to get a feel for the overall distribution of the variables.\n",
        "\n",
        "This is challenging, so manage your time and aim for a baseline of at least running two t-tests and two Chi-squared tests before polishing. And don't forget to answer the questions in part 3, even if your results in this part aren't what you want them to be."
      ]
    },
    {
      "cell_type": "code",
      "metadata": {
        "id": "HZWZFso4P3Gw",
        "colab_type": "code",
        "colab": {}
      },
      "source": [
        "#Create subsets by class +/- (A16)\n",
        "df_crx_p = df_crx[df_crx['A16']=='+']\n",
        "df_crx_m = df_crx[df_crx['A16']=='-']\n",
        "\n",
        "#TODO split by dtype cont./cat."
      ],
      "execution_count": 0,
      "outputs": []
    },
    {
      "cell_type": "markdown",
      "metadata": {
        "id": "u-uLH4w1VM5c",
        "colab_type": "text"
      },
      "source": [
        "###T-Tests on Continues Vars."
      ]
    },
    {
      "cell_type": "markdown",
      "metadata": {
        "id": "9ZMcnfKCfYYh",
        "colab_type": "text"
      },
      "source": [
        "####Generate All t-tests to compare"
      ]
    },
    {
      "cell_type": "code",
      "metadata": {
        "id": "_nqcgc0yzm68",
        "colab_type": "code",
        "colab": {
          "base_uri": "https://localhost:8080/",
          "height": 0
        },
        "outputId": "3303016b-e6ed-4c77-c063-f63f8e76a375"
      },
      "source": [
        "#Exploring the 6 continues features\n",
        "for attribute in ['A2', 'A3', 'A8', 'A11', 'A14', 'A15']:\n",
        "  tstat, pvalue = ttest_ind(df_crx_p[attribute], df_crx_m[attribute])\n",
        "  print(f'For {attribute}:')\n",
        "  print('t-stat ', tstat)\n",
        "  print('pvalue ', pvalue)\n",
        "  print('----------------')"
      ],
      "execution_count": 8,
      "outputs": [
        {
          "output_type": "stream",
          "text": [
            "For A2:\n",
            "t-stat  nan\n",
            "pvalue  nan\n",
            "----------------\n",
            "For A3:\n",
            "t-stat  5.52998337614816\n",
            "pvalue  4.551680702308068e-08\n",
            "----------------\n",
            "For A8:\n",
            "t-stat  8.935819983773698\n",
            "pvalue  3.6710537401601785e-18\n",
            "----------------\n",
            "For A11:\n",
            "t-stat  11.667004222431277\n",
            "pvalue  7.957718568079967e-29\n",
            "----------------\n",
            "For A14:\n",
            "t-stat  nan\n",
            "pvalue  nan\n",
            "----------------\n",
            "For A15:\n",
            "t-stat  4.680216020964486\n",
            "pvalue  3.4520256956287944e-06\n",
            "----------------\n"
          ],
          "name": "stdout"
        }
      ]
    },
    {
      "cell_type": "code",
      "metadata": {
        "id": "0ey06xwvThRa",
        "colab_type": "code",
        "colab": {}
      },
      "source": [
        "#TODO code interpretation and sort by significance"
      ],
      "execution_count": 0,
      "outputs": []
    },
    {
      "cell_type": "markdown",
      "metadata": {
        "id": "ZQpVbn8iTsbP",
        "colab_type": "text"
      },
      "source": [
        "TODO: Interpret the NaN T-stat results"
      ]
    },
    {
      "cell_type": "markdown",
      "metadata": {
        "id": "TeH5HrEUfjkS",
        "colab_type": "text"
      },
      "source": [
        "####Generate Selected t-tests"
      ]
    },
    {
      "cell_type": "code",
      "metadata": {
        "id": "F-H3BZ3wfoBo",
        "colab_type": "code",
        "colab": {
          "base_uri": "https://localhost:8080/",
          "height": 0
        },
        "outputId": "9787ed2e-2a50-447d-a6f3-b14ec79b800c"
      },
      "source": [
        "#Exploring the 6 continues features\n",
        "for attribute in ['A11', 'A15']:\n",
        "  tstat, pvalue = ttest_ind(df_crx_p[attribute], df_crx_m[attribute])\n",
        "  print(f'For {attribute}:')\n",
        "  print('t-stat ', tstat)\n",
        "  print('pvalue ', pvalue)\n",
        "  print('----------------')"
      ],
      "execution_count": 10,
      "outputs": [
        {
          "output_type": "stream",
          "text": [
            "For A11:\n",
            "t-stat  11.667004222431277\n",
            "pvalue  7.957718568079967e-29\n",
            "----------------\n",
            "For A15:\n",
            "t-stat  4.680216020964486\n",
            "pvalue  3.4520256956287944e-06\n",
            "----------------\n"
          ],
          "name": "stdout"
        }
      ]
    },
    {
      "cell_type": "markdown",
      "metadata": {
        "id": "e2XEuRGmm6Tp",
        "colab_type": "text"
      },
      "source": [
        "####Confidence Interval"
      ]
    },
    {
      "cell_type": "code",
      "metadata": {
        "id": "G6yCFbY3m8tD",
        "colab_type": "code",
        "colab": {
          "base_uri": "https://localhost:8080/",
          "height": 86
        },
        "outputId": "4f302675-2b1b-4ee3-8d19-d11c056a17ca"
      },
      "source": [
        "A11_p = df_crx_p['A11']\n",
        "\n",
        "S = np.std(A11_p)\n",
        "print('Standard deviation is: ', S)\n",
        "n = len(A11_p)\n",
        "print('Sample size is: ', n)\n",
        "t = stats.t.ppf(0.975, n-1) #for 95% confidence\n",
        "print('t distribution is: ', t)\n",
        "\n",
        "standard_err = S / np.sqrt(n)\n",
        "margin_of_err = t * standard_err\n",
        "confidence_interval_p = (A11_p.mean() - margin_of_err, A11_p.mean() + margin_of_err)\n",
        "\n",
        "print(f'The confidence interval is: {confidence_interval_p}')"
      ],
      "execution_count": 11,
      "outputs": [
        {
          "output_type": "stream",
          "text": [
            "Standard deviation is:  6.309939794943474\n",
            "Sample size is:  307\n",
            "t distribution is:  1.9677467375892304\n",
            "The confidence interval is: (3.8972239005334663, 5.314502483831355)\n"
          ],
          "name": "stdout"
        }
      ]
    },
    {
      "cell_type": "code",
      "metadata": {
        "id": "nzzVKfNen6L5",
        "colab_type": "code",
        "colab": {
          "base_uri": "https://localhost:8080/",
          "height": 86
        },
        "outputId": "162e4128-94db-468f-82dd-9001d5fa6b3f"
      },
      "source": [
        "A11_m = df_crx_m['A11']\n",
        "\n",
        "S = np.std(A11_m)\n",
        "print('Standard deviation is: ', S)\n",
        "n = len(A11_m)\n",
        "print('Sample size is: ', n)\n",
        "t = stats.t.ppf(0.975, n-1) #for 95% confidence\n",
        "print('t distribution is: ', t)\n",
        "\n",
        "standard_err = S / np.sqrt(n)\n",
        "margin_of_err = t * standard_err\n",
        "confidence_interval_m = (A11_m.mean() - margin_of_err, A11_m.mean() + margin_of_err)\n",
        "\n",
        "print(f'The confidence interval is: {confidence_interval_m}')"
      ],
      "execution_count": 12,
      "outputs": [
        {
          "output_type": "stream",
          "text": [
            "Standard deviation is:  1.897567072132846\n",
            "Sample size is:  383\n",
            "t distribution is:  1.9661935068269198\n",
            "The confidence interval is: (0.4412094063835571, 0.8224981654180096)\n"
          ],
          "name": "stdout"
        }
      ]
    },
    {
      "cell_type": "markdown",
      "metadata": {
        "id": "DCqBU2CzkkrN",
        "colab_type": "text"
      },
      "source": [
        "####Graphical representation"
      ]
    },
    {
      "cell_type": "code",
      "metadata": {
        "id": "vpYnBx4vknNG",
        "colab_type": "code",
        "colab": {
          "base_uri": "https://localhost:8080/",
          "height": 433
        },
        "outputId": "ea6b6d34-ffe2-430c-a66c-8c92bd5f751a"
      },
      "source": [
        "import seaborn as sns\n",
        "\n",
        "fig, ax = plt.subplots(figsize=(20,7))\n",
        "\n",
        "sample_p = df_crx_p['A11']\n",
        "sample_m = df_crx_m['A11']\n",
        "\n",
        "sns.kdeplot(sample_p, bw = 2, color = 'g', ax=ax)\n",
        "sns.kdeplot(sample_m, bw = 2, color = 'r', ax=ax)\n",
        "plt.axvline(x=sample_p.mean(), color = 'g')\n",
        "plt.axvline(x=sample_m.mean(), color = 'r')\n",
        "\n",
        "plt.axvline(confidence_interval_p[0], color = 'g')\n",
        "plt.axvline(confidence_interval_p[1], color = 'g')\n",
        "\n",
        "plt.axvline(confidence_interval_m[0], color = 'r')\n",
        "plt.axvline(confidence_interval_m[1], color = 'r')\n",
        "#plt.title()\n",
        "\n",
        "\n",
        "plt.show()"
      ],
      "execution_count": 13,
      "outputs": [
        {
          "output_type": "display_data",
          "data": {
            "image/png": "[encoded data removed]",
            "text/plain": [
              "<Figure size 1440x504 with 1 Axes>"
            ]
          },
          "metadata": {
            "tags": []
          }
        }
      ]
    },
    {
      "cell_type": "markdown",
      "metadata": {
        "id": "S-pZlk_1T4DV",
        "colab_type": "text"
      },
      "source": [
        "A11 is extremly different and A15 less different. Meaning: A11 has a greater influence on whether an individual is approved or not than A15\n",
        "\n",
        "**TODO Graph (A11, A15) color/groupby approval. Might be interesting to see when one outweighs the other**"
      ]
    },
    {
      "cell_type": "markdown",
      "metadata": {
        "id": "uPfMKjrPVCgN",
        "colab_type": "text"
      },
      "source": [
        "###Chi Square Test on Categoricals"
      ]
    },
    {
      "cell_type": "markdown",
      "metadata": {
        "id": "8qOjUMogX70K",
        "colab_type": "text"
      },
      "source": [
        "####Crosstab hand itterations"
      ]
    },
    {
      "cell_type": "code",
      "metadata": {
        "id": "GK2BvPxdX2Xk",
        "colab_type": "code",
        "colab": {
          "base_uri": "https://localhost:8080/",
          "height": 0
        },
        "outputId": "36c5a282-8df5-4dc1-f837-fe0629bb46a5"
      },
      "source": [
        "pd.crosstab(df_crx['A16'], df_crx['A1'], margins=True)"
      ],
      "execution_count": 14,
      "outputs": [
        {
          "output_type": "execute_result",
          "data": {
            "text/html": [
              "<div>\n",
              "<style scoped>\n",
              "    .dataframe tbody tr th:only-of-type {\n",
              "        vertical-align: middle;\n",
              "    }\n",
              "\n",
              "    .dataframe tbody tr th {\n",
              "        vertical-align: top;\n",
              "    }\n",
              "\n",
              "    .dataframe thead th {\n",
              "        text-align: right;\n",
              "    }\n",
              "</style>\n",
              "<table border=\"1\" class=\"dataframe\">\n",
              "  <thead>\n",
              "    <tr style=\"text-align: right;\">\n",
              "      <th>A1</th>\n",
              "      <th>a</th>\n",
              "      <th>b</th>\n",
              "      <th>All</th>\n",
              "    </tr>\n",
              "    <tr>\n",
              "      <th>A16</th>\n",
              "      <th></th>\n",
              "      <th></th>\n",
              "      <th></th>\n",
              "    </tr>\n",
              "  </thead>\n",
              "  <tbody>\n",
              "    <tr>\n",
              "      <th>+</th>\n",
              "      <td>98</td>\n",
              "      <td>206</td>\n",
              "      <td>304</td>\n",
              "    </tr>\n",
              "    <tr>\n",
              "      <th>-</th>\n",
              "      <td>112</td>\n",
              "      <td>262</td>\n",
              "      <td>374</td>\n",
              "    </tr>\n",
              "    <tr>\n",
              "      <th>All</th>\n",
              "      <td>210</td>\n",
              "      <td>468</td>\n",
              "      <td>678</td>\n",
              "    </tr>\n",
              "  </tbody>\n",
              "</table>\n",
              "</div>"
            ],
            "text/plain": [
              "A1     a    b  All\n",
              "A16               \n",
              "+     98  206  304\n",
              "-    112  262  374\n",
              "All  210  468  678"
            ]
          },
          "metadata": {
            "tags": []
          },
          "execution_count": 14
        }
      ]
    },
    {
      "cell_type": "code",
      "metadata": {
        "id": "1ZfQ0UTsYEBd",
        "colab_type": "code",
        "colab": {
          "base_uri": "https://localhost:8080/",
          "height": 0
        },
        "outputId": "79ae3206-9df6-469e-8dad-89c921d30e97"
      },
      "source": [
        "pd.crosstab(df_crx['A16'], df_crx['A4'], margins=True)"
      ],
      "execution_count": 15,
      "outputs": [
        {
          "output_type": "execute_result",
          "data": {
            "text/html": [
              "<div>\n",
              "<style scoped>\n",
              "    .dataframe tbody tr th:only-of-type {\n",
              "        vertical-align: middle;\n",
              "    }\n",
              "\n",
              "    .dataframe tbody tr th {\n",
              "        vertical-align: top;\n",
              "    }\n",
              "\n",
              "    .dataframe thead th {\n",
              "        text-align: right;\n",
              "    }\n",
              "</style>\n",
              "<table border=\"1\" class=\"dataframe\">\n",
              "  <thead>\n",
              "    <tr style=\"text-align: right;\">\n",
              "      <th>A4</th>\n",
              "      <th>l</th>\n",
              "      <th>u</th>\n",
              "      <th>y</th>\n",
              "      <th>All</th>\n",
              "    </tr>\n",
              "    <tr>\n",
              "      <th>A16</th>\n",
              "      <th></th>\n",
              "      <th></th>\n",
              "      <th></th>\n",
              "      <th></th>\n",
              "    </tr>\n",
              "  </thead>\n",
              "  <tbody>\n",
              "    <tr>\n",
              "      <th>+</th>\n",
              "      <td>2</td>\n",
              "      <td>256</td>\n",
              "      <td>45</td>\n",
              "      <td>303</td>\n",
              "    </tr>\n",
              "    <tr>\n",
              "      <th>-</th>\n",
              "      <td>0</td>\n",
              "      <td>263</td>\n",
              "      <td>118</td>\n",
              "      <td>381</td>\n",
              "    </tr>\n",
              "    <tr>\n",
              "      <th>All</th>\n",
              "      <td>2</td>\n",
              "      <td>519</td>\n",
              "      <td>163</td>\n",
              "      <td>684</td>\n",
              "    </tr>\n",
              "  </tbody>\n",
              "</table>\n",
              "</div>"
            ],
            "text/plain": [
              "A4   l    u    y  All\n",
              "A16                  \n",
              "+    2  256   45  303\n",
              "-    0  263  118  381\n",
              "All  2  519  163  684"
            ]
          },
          "metadata": {
            "tags": []
          },
          "execution_count": 15
        }
      ]
    },
    {
      "cell_type": "code",
      "metadata": {
        "id": "8d96yOD3YEGS",
        "colab_type": "code",
        "colab": {
          "base_uri": "https://localhost:8080/",
          "height": 0
        },
        "outputId": "ac30efd9-92c1-466d-d964-ea76b4bb7cb2"
      },
      "source": [
        "pd.crosstab(df_crx['A16'], df_crx['A5'], margins=True)"
      ],
      "execution_count": 16,
      "outputs": [
        {
          "output_type": "execute_result",
          "data": {
            "text/html": [
              "<div>\n",
              "<style scoped>\n",
              "    .dataframe tbody tr th:only-of-type {\n",
              "        vertical-align: middle;\n",
              "    }\n",
              "\n",
              "    .dataframe tbody tr th {\n",
              "        vertical-align: top;\n",
              "    }\n",
              "\n",
              "    .dataframe thead th {\n",
              "        text-align: right;\n",
              "    }\n",
              "</style>\n",
              "<table border=\"1\" class=\"dataframe\">\n",
              "  <thead>\n",
              "    <tr style=\"text-align: right;\">\n",
              "      <th>A5</th>\n",
              "      <th>g</th>\n",
              "      <th>gg</th>\n",
              "      <th>p</th>\n",
              "      <th>All</th>\n",
              "    </tr>\n",
              "    <tr>\n",
              "      <th>A16</th>\n",
              "      <th></th>\n",
              "      <th></th>\n",
              "      <th></th>\n",
              "      <th></th>\n",
              "    </tr>\n",
              "  </thead>\n",
              "  <tbody>\n",
              "    <tr>\n",
              "      <th>+</th>\n",
              "      <td>256</td>\n",
              "      <td>2</td>\n",
              "      <td>45</td>\n",
              "      <td>303</td>\n",
              "    </tr>\n",
              "    <tr>\n",
              "      <th>-</th>\n",
              "      <td>263</td>\n",
              "      <td>0</td>\n",
              "      <td>118</td>\n",
              "      <td>381</td>\n",
              "    </tr>\n",
              "    <tr>\n",
              "      <th>All</th>\n",
              "      <td>519</td>\n",
              "      <td>2</td>\n",
              "      <td>163</td>\n",
              "      <td>684</td>\n",
              "    </tr>\n",
              "  </tbody>\n",
              "</table>\n",
              "</div>"
            ],
            "text/plain": [
              "A5     g  gg    p  All\n",
              "A16                   \n",
              "+    256   2   45  303\n",
              "-    263   0  118  381\n",
              "All  519   2  163  684"
            ]
          },
          "metadata": {
            "tags": []
          },
          "execution_count": 16
        }
      ]
    },
    {
      "cell_type": "code",
      "metadata": {
        "id": "eVb2BiNbYELj",
        "colab_type": "code",
        "colab": {
          "base_uri": "https://localhost:8080/",
          "height": 0
        },
        "outputId": "891ce6cc-fd8b-4b89-cd16-203a04a8562e"
      },
      "source": [
        "pd.crosstab(df_crx['A16'], df_crx['A6'], margins=True)"
      ],
      "execution_count": 17,
      "outputs": [
        {
          "output_type": "execute_result",
          "data": {
            "text/html": [
              "<div>\n",
              "<style scoped>\n",
              "    .dataframe tbody tr th:only-of-type {\n",
              "        vertical-align: middle;\n",
              "    }\n",
              "\n",
              "    .dataframe tbody tr th {\n",
              "        vertical-align: top;\n",
              "    }\n",
              "\n",
              "    .dataframe thead th {\n",
              "        text-align: right;\n",
              "    }\n",
              "</style>\n",
              "<table border=\"1\" class=\"dataframe\">\n",
              "  <thead>\n",
              "    <tr style=\"text-align: right;\">\n",
              "      <th>A6</th>\n",
              "      <th>aa</th>\n",
              "      <th>c</th>\n",
              "      <th>cc</th>\n",
              "      <th>d</th>\n",
              "      <th>e</th>\n",
              "      <th>ff</th>\n",
              "      <th>i</th>\n",
              "      <th>j</th>\n",
              "      <th>k</th>\n",
              "      <th>m</th>\n",
              "      <th>q</th>\n",
              "      <th>r</th>\n",
              "      <th>w</th>\n",
              "      <th>x</th>\n",
              "      <th>All</th>\n",
              "    </tr>\n",
              "    <tr>\n",
              "      <th>A16</th>\n",
              "      <th></th>\n",
              "      <th></th>\n",
              "      <th></th>\n",
              "      <th></th>\n",
              "      <th></th>\n",
              "      <th></th>\n",
              "      <th></th>\n",
              "      <th></th>\n",
              "      <th></th>\n",
              "      <th></th>\n",
              "      <th></th>\n",
              "      <th></th>\n",
              "      <th></th>\n",
              "      <th></th>\n",
              "      <th></th>\n",
              "    </tr>\n",
              "  </thead>\n",
              "  <tbody>\n",
              "    <tr>\n",
              "      <th>+</th>\n",
              "      <td>19</td>\n",
              "      <td>62</td>\n",
              "      <td>29</td>\n",
              "      <td>7</td>\n",
              "      <td>14</td>\n",
              "      <td>7</td>\n",
              "      <td>14</td>\n",
              "      <td>3</td>\n",
              "      <td>14</td>\n",
              "      <td>16</td>\n",
              "      <td>51</td>\n",
              "      <td>2</td>\n",
              "      <td>33</td>\n",
              "      <td>32</td>\n",
              "      <td>303</td>\n",
              "    </tr>\n",
              "    <tr>\n",
              "      <th>-</th>\n",
              "      <td>35</td>\n",
              "      <td>75</td>\n",
              "      <td>12</td>\n",
              "      <td>23</td>\n",
              "      <td>11</td>\n",
              "      <td>46</td>\n",
              "      <td>45</td>\n",
              "      <td>7</td>\n",
              "      <td>37</td>\n",
              "      <td>22</td>\n",
              "      <td>27</td>\n",
              "      <td>1</td>\n",
              "      <td>31</td>\n",
              "      <td>6</td>\n",
              "      <td>378</td>\n",
              "    </tr>\n",
              "    <tr>\n",
              "      <th>All</th>\n",
              "      <td>54</td>\n",
              "      <td>137</td>\n",
              "      <td>41</td>\n",
              "      <td>30</td>\n",
              "      <td>25</td>\n",
              "      <td>53</td>\n",
              "      <td>59</td>\n",
              "      <td>10</td>\n",
              "      <td>51</td>\n",
              "      <td>38</td>\n",
              "      <td>78</td>\n",
              "      <td>3</td>\n",
              "      <td>64</td>\n",
              "      <td>38</td>\n",
              "      <td>681</td>\n",
              "    </tr>\n",
              "  </tbody>\n",
              "</table>\n",
              "</div>"
            ],
            "text/plain": [
              "A6   aa    c  cc   d   e  ff   i   j   k   m   q  r   w   x  All\n",
              "A16                                                             \n",
              "+    19   62  29   7  14   7  14   3  14  16  51  2  33  32  303\n",
              "-    35   75  12  23  11  46  45   7  37  22  27  1  31   6  378\n",
              "All  54  137  41  30  25  53  59  10  51  38  78  3  64  38  681"
            ]
          },
          "metadata": {
            "tags": []
          },
          "execution_count": 17
        }
      ]
    },
    {
      "cell_type": "code",
      "metadata": {
        "id": "lC39PDYZYEQK",
        "colab_type": "code",
        "colab": {
          "base_uri": "https://localhost:8080/",
          "height": 0
        },
        "outputId": "1265fcdc-5230-48f4-861f-4cda6c6e747c"
      },
      "source": [
        "pd.crosstab(df_crx['A16'], df_crx['A7'], margins=True)"
      ],
      "execution_count": 18,
      "outputs": [
        {
          "output_type": "execute_result",
          "data": {
            "text/html": [
              "<div>\n",
              "<style scoped>\n",
              "    .dataframe tbody tr th:only-of-type {\n",
              "        vertical-align: middle;\n",
              "    }\n",
              "\n",
              "    .dataframe tbody tr th {\n",
              "        vertical-align: top;\n",
              "    }\n",
              "\n",
              "    .dataframe thead th {\n",
              "        text-align: right;\n",
              "    }\n",
              "</style>\n",
              "<table border=\"1\" class=\"dataframe\">\n",
              "  <thead>\n",
              "    <tr style=\"text-align: right;\">\n",
              "      <th>A7</th>\n",
              "      <th>bb</th>\n",
              "      <th>dd</th>\n",
              "      <th>ff</th>\n",
              "      <th>h</th>\n",
              "      <th>j</th>\n",
              "      <th>n</th>\n",
              "      <th>o</th>\n",
              "      <th>v</th>\n",
              "      <th>z</th>\n",
              "      <th>All</th>\n",
              "    </tr>\n",
              "    <tr>\n",
              "      <th>A16</th>\n",
              "      <th></th>\n",
              "      <th></th>\n",
              "      <th></th>\n",
              "      <th></th>\n",
              "      <th></th>\n",
              "      <th></th>\n",
              "      <th></th>\n",
              "      <th></th>\n",
              "      <th></th>\n",
              "      <th></th>\n",
              "    </tr>\n",
              "  </thead>\n",
              "  <tbody>\n",
              "    <tr>\n",
              "      <th>+</th>\n",
              "      <td>25</td>\n",
              "      <td>2</td>\n",
              "      <td>8</td>\n",
              "      <td>87</td>\n",
              "      <td>3</td>\n",
              "      <td>2</td>\n",
              "      <td>1</td>\n",
              "      <td>169</td>\n",
              "      <td>6</td>\n",
              "      <td>303</td>\n",
              "    </tr>\n",
              "    <tr>\n",
              "      <th>-</th>\n",
              "      <td>34</td>\n",
              "      <td>4</td>\n",
              "      <td>49</td>\n",
              "      <td>51</td>\n",
              "      <td>5</td>\n",
              "      <td>2</td>\n",
              "      <td>1</td>\n",
              "      <td>230</td>\n",
              "      <td>2</td>\n",
              "      <td>378</td>\n",
              "    </tr>\n",
              "    <tr>\n",
              "      <th>All</th>\n",
              "      <td>59</td>\n",
              "      <td>6</td>\n",
              "      <td>57</td>\n",
              "      <td>138</td>\n",
              "      <td>8</td>\n",
              "      <td>4</td>\n",
              "      <td>2</td>\n",
              "      <td>399</td>\n",
              "      <td>8</td>\n",
              "      <td>681</td>\n",
              "    </tr>\n",
              "  </tbody>\n",
              "</table>\n",
              "</div>"
            ],
            "text/plain": [
              "A7   bb  dd  ff    h  j  n  o    v  z  All\n",
              "A16                                       \n",
              "+    25   2   8   87  3  2  1  169  6  303\n",
              "-    34   4  49   51  5  2  1  230  2  378\n",
              "All  59   6  57  138  8  4  2  399  8  681"
            ]
          },
          "metadata": {
            "tags": []
          },
          "execution_count": 18
        }
      ]
    },
    {
      "cell_type": "code",
      "metadata": {
        "id": "5umjy1T4YEUu",
        "colab_type": "code",
        "colab": {
          "base_uri": "https://localhost:8080/",
          "height": 0
        },
        "outputId": "c88bd385-e1fd-4866-877f-edefc695c33c"
      },
      "source": [
        "pd.crosstab(df_crx['A16'], df_crx['A9'], margins=True)"
      ],
      "execution_count": 19,
      "outputs": [
        {
          "output_type": "execute_result",
          "data": {
            "text/html": [
              "<div>\n",
              "<style scoped>\n",
              "    .dataframe tbody tr th:only-of-type {\n",
              "        vertical-align: middle;\n",
              "    }\n",
              "\n",
              "    .dataframe tbody tr th {\n",
              "        vertical-align: top;\n",
              "    }\n",
              "\n",
              "    .dataframe thead th {\n",
              "        text-align: right;\n",
              "    }\n",
              "</style>\n",
              "<table border=\"1\" class=\"dataframe\">\n",
              "  <thead>\n",
              "    <tr style=\"text-align: right;\">\n",
              "      <th>A9</th>\n",
              "      <th>f</th>\n",
              "      <th>t</th>\n",
              "      <th>All</th>\n",
              "    </tr>\n",
              "    <tr>\n",
              "      <th>A16</th>\n",
              "      <th></th>\n",
              "      <th></th>\n",
              "      <th></th>\n",
              "    </tr>\n",
              "  </thead>\n",
              "  <tbody>\n",
              "    <tr>\n",
              "      <th>+</th>\n",
              "      <td>23</td>\n",
              "      <td>284</td>\n",
              "      <td>307</td>\n",
              "    </tr>\n",
              "    <tr>\n",
              "      <th>-</th>\n",
              "      <td>306</td>\n",
              "      <td>77</td>\n",
              "      <td>383</td>\n",
              "    </tr>\n",
              "    <tr>\n",
              "      <th>All</th>\n",
              "      <td>329</td>\n",
              "      <td>361</td>\n",
              "      <td>690</td>\n",
              "    </tr>\n",
              "  </tbody>\n",
              "</table>\n",
              "</div>"
            ],
            "text/plain": [
              "A9     f    t  All\n",
              "A16               \n",
              "+     23  284  307\n",
              "-    306   77  383\n",
              "All  329  361  690"
            ]
          },
          "metadata": {
            "tags": []
          },
          "execution_count": 19
        }
      ]
    },
    {
      "cell_type": "code",
      "metadata": {
        "id": "65bRulCrYEaw",
        "colab_type": "code",
        "colab": {
          "base_uri": "https://localhost:8080/",
          "height": 0
        },
        "outputId": "dbdc4aa3-451f-4c7b-8cb7-f5e8ad0a1ef9"
      },
      "source": [
        "pd.crosstab(df_crx['A16'], df_crx['A10'], margins=True)"
      ],
      "execution_count": 20,
      "outputs": [
        {
          "output_type": "execute_result",
          "data": {
            "text/html": [
              "<div>\n",
              "<style scoped>\n",
              "    .dataframe tbody tr th:only-of-type {\n",
              "        vertical-align: middle;\n",
              "    }\n",
              "\n",
              "    .dataframe tbody tr th {\n",
              "        vertical-align: top;\n",
              "    }\n",
              "\n",
              "    .dataframe thead th {\n",
              "        text-align: right;\n",
              "    }\n",
              "</style>\n",
              "<table border=\"1\" class=\"dataframe\">\n",
              "  <thead>\n",
              "    <tr style=\"text-align: right;\">\n",
              "      <th>A10</th>\n",
              "      <th>f</th>\n",
              "      <th>t</th>\n",
              "      <th>All</th>\n",
              "    </tr>\n",
              "    <tr>\n",
              "      <th>A16</th>\n",
              "      <th></th>\n",
              "      <th></th>\n",
              "      <th></th>\n",
              "    </tr>\n",
              "  </thead>\n",
              "  <tbody>\n",
              "    <tr>\n",
              "      <th>+</th>\n",
              "      <td>98</td>\n",
              "      <td>209</td>\n",
              "      <td>307</td>\n",
              "    </tr>\n",
              "    <tr>\n",
              "      <th>-</th>\n",
              "      <td>297</td>\n",
              "      <td>86</td>\n",
              "      <td>383</td>\n",
              "    </tr>\n",
              "    <tr>\n",
              "      <th>All</th>\n",
              "      <td>395</td>\n",
              "      <td>295</td>\n",
              "      <td>690</td>\n",
              "    </tr>\n",
              "  </tbody>\n",
              "</table>\n",
              "</div>"
            ],
            "text/plain": [
              "A10    f    t  All\n",
              "A16               \n",
              "+     98  209  307\n",
              "-    297   86  383\n",
              "All  395  295  690"
            ]
          },
          "metadata": {
            "tags": []
          },
          "execution_count": 20
        }
      ]
    },
    {
      "cell_type": "code",
      "metadata": {
        "id": "dilaZtR7YEfb",
        "colab_type": "code",
        "colab": {
          "base_uri": "https://localhost:8080/",
          "height": 0
        },
        "outputId": "6f950d69-5a87-4dd7-ed12-3432271a5eb2"
      },
      "source": [
        "pd.crosstab(df_crx['A16'], df_crx['A12'], margins=True)"
      ],
      "execution_count": 21,
      "outputs": [
        {
          "output_type": "execute_result",
          "data": {
            "text/html": [
              "<div>\n",
              "<style scoped>\n",
              "    .dataframe tbody tr th:only-of-type {\n",
              "        vertical-align: middle;\n",
              "    }\n",
              "\n",
              "    .dataframe tbody tr th {\n",
              "        vertical-align: top;\n",
              "    }\n",
              "\n",
              "    .dataframe thead th {\n",
              "        text-align: right;\n",
              "    }\n",
              "</style>\n",
              "<table border=\"1\" class=\"dataframe\">\n",
              "  <thead>\n",
              "    <tr style=\"text-align: right;\">\n",
              "      <th>A12</th>\n",
              "      <th>f</th>\n",
              "      <th>t</th>\n",
              "      <th>All</th>\n",
              "    </tr>\n",
              "    <tr>\n",
              "      <th>A16</th>\n",
              "      <th></th>\n",
              "      <th></th>\n",
              "      <th></th>\n",
              "    </tr>\n",
              "  </thead>\n",
              "  <tbody>\n",
              "    <tr>\n",
              "      <th>+</th>\n",
              "      <td>161</td>\n",
              "      <td>146</td>\n",
              "      <td>307</td>\n",
              "    </tr>\n",
              "    <tr>\n",
              "      <th>-</th>\n",
              "      <td>213</td>\n",
              "      <td>170</td>\n",
              "      <td>383</td>\n",
              "    </tr>\n",
              "    <tr>\n",
              "      <th>All</th>\n",
              "      <td>374</td>\n",
              "      <td>316</td>\n",
              "      <td>690</td>\n",
              "    </tr>\n",
              "  </tbody>\n",
              "</table>\n",
              "</div>"
            ],
            "text/plain": [
              "A12    f    t  All\n",
              "A16               \n",
              "+    161  146  307\n",
              "-    213  170  383\n",
              "All  374  316  690"
            ]
          },
          "metadata": {
            "tags": []
          },
          "execution_count": 21
        }
      ]
    },
    {
      "cell_type": "code",
      "metadata": {
        "id": "qfi-4YB-YNy-",
        "colab_type": "code",
        "colab": {
          "base_uri": "https://localhost:8080/",
          "height": 0
        },
        "outputId": "344eaf01-f458-4f8e-f85a-699c3a52f7af"
      },
      "source": [
        "pd.crosstab(df_crx['A16'], df_crx['A13'], margins=True)"
      ],
      "execution_count": 22,
      "outputs": [
        {
          "output_type": "execute_result",
          "data": {
            "text/html": [
              "<div>\n",
              "<style scoped>\n",
              "    .dataframe tbody tr th:only-of-type {\n",
              "        vertical-align: middle;\n",
              "    }\n",
              "\n",
              "    .dataframe tbody tr th {\n",
              "        vertical-align: top;\n",
              "    }\n",
              "\n",
              "    .dataframe thead th {\n",
              "        text-align: right;\n",
              "    }\n",
              "</style>\n",
              "<table border=\"1\" class=\"dataframe\">\n",
              "  <thead>\n",
              "    <tr style=\"text-align: right;\">\n",
              "      <th>A13</th>\n",
              "      <th>g</th>\n",
              "      <th>p</th>\n",
              "      <th>s</th>\n",
              "      <th>All</th>\n",
              "    </tr>\n",
              "    <tr>\n",
              "      <th>A16</th>\n",
              "      <th></th>\n",
              "      <th></th>\n",
              "      <th></th>\n",
              "      <th></th>\n",
              "    </tr>\n",
              "  </thead>\n",
              "  <tbody>\n",
              "    <tr>\n",
              "      <th>+</th>\n",
              "      <td>287</td>\n",
              "      <td>5</td>\n",
              "      <td>15</td>\n",
              "      <td>307</td>\n",
              "    </tr>\n",
              "    <tr>\n",
              "      <th>-</th>\n",
              "      <td>338</td>\n",
              "      <td>3</td>\n",
              "      <td>42</td>\n",
              "      <td>383</td>\n",
              "    </tr>\n",
              "    <tr>\n",
              "      <th>All</th>\n",
              "      <td>625</td>\n",
              "      <td>8</td>\n",
              "      <td>57</td>\n",
              "      <td>690</td>\n",
              "    </tr>\n",
              "  </tbody>\n",
              "</table>\n",
              "</div>"
            ],
            "text/plain": [
              "A13    g  p   s  All\n",
              "A16                 \n",
              "+    287  5  15  307\n",
              "-    338  3  42  383\n",
              "All  625  8  57  690"
            ]
          },
          "metadata": {
            "tags": []
          },
          "execution_count": 22
        }
      ]
    },
    {
      "cell_type": "markdown",
      "metadata": {
        "id": "JTLieR3Nbw4N",
        "colab_type": "text"
      },
      "source": [
        "####Generate all Chi Squared tests"
      ]
    },
    {
      "cell_type": "code",
      "metadata": {
        "id": "lsaR5tzeVTD6",
        "colab_type": "code",
        "colab": {
          "base_uri": "https://localhost:8080/",
          "height": 0
        },
        "outputId": "f921ffe9-6f7c-4859-c6ee-a0c36f2cc82b"
      },
      "source": [
        "#Create all crosstabs to select extremes\n",
        "#TODO Abstract Code\n",
        "#Code ranking of attributes\n",
        "for attribute in ['A1', 'A4', 'A5', 'A6', 'A7', 'A9', 'A10', 'A12', 'A13']:\n",
        "  observed = pd.crosstab(df_crx['A16'], df_crx[attribute])\n",
        "  chi_squared, p_value, dof, expected = stats.chi2_contingency(observed)\n",
        "  print(f'Attribute: \\t{attribute} \\nSquared Value: \\t{chi_squared} \\nP-value of: \\t{p_value} \\nDoF: \\t\\t{dof} \\nExpected: \\t{expected} \\n \\n')\n",
        "  \n",
        "  \n",
        " "
      ],
      "execution_count": 23,
      "outputs": [
        {
          "output_type": "stream",
          "text": [
            "Attribute: \tA1 \n",
            "Squared Value: \t0.31128326491619945 \n",
            "P-value of: \t0.5768937883001117 \n",
            "DoF: \t\t1 \n",
            "Expected: \t[[ 94.15929204 209.84070796]\n",
            " [115.84070796 258.15929204]] \n",
            " \n",
            "\n",
            "Attribute: \tA4 \n",
            "Squared Value: \t26.234074966202144 \n",
            "P-value of: \t2.010680204180363e-06 \n",
            "DoF: \t\t2 \n",
            "Expected: \t[[  0.88596491 229.90789474  72.20614035]\n",
            " [  1.11403509 289.09210526  90.79385965]] \n",
            " \n",
            "\n",
            "Attribute: \tA5 \n",
            "Squared Value: \t26.234074966202144 \n",
            "P-value of: \t2.010680204180363e-06 \n",
            "DoF: \t\t2 \n",
            "Expected: \t[[229.90789474   0.88596491  72.20614035]\n",
            " [289.09210526   1.11403509  90.79385965]] \n",
            " \n",
            "\n",
            "Attribute: \tA6 \n",
            "Squared Value: \t98.32520342679135 \n",
            "P-value of: \t3.4999300402715717e-15 \n",
            "DoF: \t\t13 \n",
            "Expected: \t[[24.02643172 60.95594714 18.24229075 13.34801762 11.12334802 23.5814978\n",
            "  26.25110132  4.44933921 22.69162996 16.90748899 34.70484581  1.33480176\n",
            "  28.47577093 16.90748899]\n",
            " [29.97356828 76.04405286 22.75770925 16.65198238 13.87665198 29.4185022\n",
            "  32.74889868  5.55066079 28.30837004 21.09251101 43.29515419  1.66519824\n",
            "  35.52422907 21.09251101]] \n",
            " \n",
            "\n",
            "Attribute: \tA7 \n",
            "Squared Value: \t45.034207140240554 \n",
            "P-value of: \t3.625452872372267e-07 \n",
            "DoF: \t\t8 \n",
            "Expected: \t[[ 26.25110132   2.66960352  25.36123348  61.40088106   3.55947137\n",
            "    1.77973568   0.88986784 177.52863436   3.55947137]\n",
            " [ 32.74889868   3.33039648  31.63876652  76.59911894   4.44052863\n",
            "    2.22026432   1.11013216 221.47136564   4.44052863]] \n",
            " \n",
            "\n",
            "Attribute: \tA9 \n",
            "Squared Value: \t355.2038167412799 \n",
            "P-value of: \t3.1185900878457007e-79 \n",
            "DoF: \t\t1 \n",
            "Expected: \t[[146.38115942 160.61884058]\n",
            " [182.61884058 200.38115942]] \n",
            " \n",
            "\n",
            "Attribute: \tA10 \n",
            "Squared Value: \t143.06956205083145 \n",
            "P-value of: \t5.675727374527571e-33 \n",
            "DoF: \t\t1 \n",
            "Expected: \t[[175.74637681 131.25362319]\n",
            " [219.25362319 163.74637681]] \n",
            " \n",
            "\n",
            "Attribute: \tA12 \n",
            "Squared Value: \t0.568273300792113 \n",
            "P-value of: \t0.45094587758631943 \n",
            "DoF: \t\t1 \n",
            "Expected: \t[[166.40289855 140.59710145]\n",
            " [207.59710145 175.40289855]] \n",
            " \n",
            "\n",
            "Attribute: \tA13 \n",
            "Squared Value: \t9.191570451545383 \n",
            "P-value of: \t0.010094291370456362 \n",
            "DoF: \t\t2 \n",
            "Expected: \t[[278.07971014   3.55942029  25.36086957]\n",
            " [346.92028986   4.44057971  31.63913043]] \n",
            " \n",
            "\n"
          ],
          "name": "stdout"
        }
      ]
    },
    {
      "cell_type": "markdown",
      "metadata": {
        "id": "WjRE3wzTcf3x",
        "colab_type": "text"
      },
      "source": [
        "A1 has a p-value > 0.05, I therefor cannot reject the null hypothesis (that: the observed results deviated from the expected due to random variation) with at least 95% confidence."
      ]
    },
    {
      "cell_type": "markdown",
      "metadata": {
        "id": "1iR0Vz90eiMu",
        "colab_type": "text"
      },
      "source": [
        "####Selected Chi Squares\n",
        "\n"
      ]
    },
    {
      "cell_type": "code",
      "metadata": {
        "id": "xndtQVbxenTr",
        "colab_type": "code",
        "colab": {
          "base_uri": "https://localhost:8080/",
          "height": 0
        },
        "outputId": "64607580-ba1d-40d3-9512-83c30d59bdb3"
      },
      "source": [
        "for attribute in ['A9', 'A12']:\n",
        "  observed = pd.crosstab(df_crx['A16'], df_crx[attribute])\n",
        "  chi_squared, p_value, dof, expected = stats.chi2_contingency(observed)\n",
        "  print(f'Attribute: \\t{attribute} \\nSquared Value: \\t{chi_squared} \\nP-value of: \\t{p_value} \\nDoF: \\t\\t{dof} \\nExpected: \\t{expected} \\n \\n')"
      ],
      "execution_count": 24,
      "outputs": [
        {
          "output_type": "stream",
          "text": [
            "Attribute: \tA9 \n",
            "Squared Value: \t355.2038167412799 \n",
            "P-value of: \t3.1185900878457007e-79 \n",
            "DoF: \t\t1 \n",
            "Expected: \t[[146.38115942 160.61884058]\n",
            " [182.61884058 200.38115942]] \n",
            " \n",
            "\n",
            "Attribute: \tA12 \n",
            "Squared Value: \t0.568273300792113 \n",
            "P-value of: \t0.45094587758631943 \n",
            "DoF: \t\t1 \n",
            "Expected: \t[[166.40289855 140.59710145]\n",
            " [207.59710145 175.40289855]] \n",
            " \n",
            "\n"
          ],
          "name": "stdout"
        }
      ]
    },
    {
      "cell_type": "markdown",
      "metadata": {
        "id": "DCmmexOcfB84",
        "colab_type": "text"
      },
      "source": [
        "**A9**: has an extremely high squared value of 355.2 more than double of any other categorical\n",
        "\n",
        "**A12**: has a relativley high P-value of 0.45 (probability that difference in observed and expected is due to random chance), but is still < 0.05 and therefor significant enough to be a useful metric."
      ]
    },
    {
      "cell_type": "markdown",
      "metadata": {
        "id": "ZM8JckA2bgnp",
        "colab_type": "text"
      },
      "source": [
        "## Part 3 - Analysis and Interpretation\n",
        "\n",
        "Now that you've looked at the data, answer the following questions:\n",
        "\n",
        "- Interpret and explain the two t-tests you ran - what do they tell you about the relationships between the continuous features you selected and the class labels?\n",
        "- Interpret and explain the two Chi-squared tests you ran - what do they tell you about the relationships between the categorical features you selected and the class labels?\n",
        "- What was the most challenging part of this sprint challenge?\n",
        "\n",
        "Answer with text, but feel free to intersperse example code/results or refer to it from earlier."
      ]
    },
    {
      "cell_type": "markdown",
      "metadata": {
        "id": "LIozLDNG2Uhu",
        "colab_type": "text"
      },
      "source": [
        "###My Analysis and Interpretation (MVP)"
      ]
    },
    {
      "cell_type": "markdown",
      "metadata": {
        "id": "hwqKBEN-jJGS",
        "colab_type": "text"
      },
      "source": [
        "####t-Tests"
      ]
    },
    {
      "cell_type": "markdown",
      "metadata": {
        "id": "fT8FVcW5tXWi",
        "colab_type": "text"
      },
      "source": [
        "**Results**\n",
        "\n",
        "```\n",
        "\n",
        "For A11:\n",
        "t-stat  11.667004222431277\n",
        "pvalue  7.957718568079967e-29\n",
        "----------------\n",
        "For A15:\n",
        "t-stat  4.680216020964486\n",
        "pvalue  3.4520256956287944e-06\n",
        "```\n",
        "\n"
      ]
    },
    {
      "cell_type": "markdown",
      "metadata": {
        "id": "hOdfFiiUjhqJ",
        "colab_type": "text"
      },
      "source": [
        "A11's observed values are extremly different from the expected values, assuming the null hypothesis that: A11 does not correlate to credit approval (A16). A15 less different, meaning: A11 has a greater influence on whether an individual is approved or not than A15\n",
        "\n",
        "**TODO Graph (A11, A15) color/groupby approval. Might be interesting to see when one outweighs the other**"
      ]
    },
    {
      "cell_type": "markdown",
      "metadata": {
        "id": "PQX3ha-FjJQR",
        "colab_type": "text"
      },
      "source": [
        "####Chi-squared tests"
      ]
    },
    {
      "cell_type": "markdown",
      "metadata": {
        "id": "yMP7gUhotkuz",
        "colab_type": "text"
      },
      "source": [
        "**Results**\n",
        "\n",
        "```\n",
        "Attribute: \tA9 \n",
        "Squared Value: \t355.2038167412799 \n",
        "P-value of: \t3.1185900878457007e-79 \n",
        "DoF: \t\t1 \n",
        "Expected: \t[[146.38115942 160.61884058]\n",
        " [182.61884058 200.38115942]] \n",
        " \n",
        "\n",
        "Attribute: \tA12 \n",
        "Squared Value: \t0.568273300792113 \n",
        "P-value of: \t0.45094587758631943 \n",
        "DoF: \t\t1 \n",
        "Expected: \t[[166.40289855 140.59710145]\n",
        " [207.59710145 175.40289855]] \n",
        "```\n",
        "\n"
      ]
    },
    {
      "cell_type": "markdown",
      "metadata": {
        "id": "kEHik2WNpXqv",
        "colab_type": "text"
      },
      "source": [
        "**A9**: has an extremely high Chi Squared value of 355.2 (more than double of any other categorical) indicating that this feature is highly correlated with credit approval.\n",
        "\n",
        "**TODO**: Density/KDE graph of A9 to determine whether there is a sweetspot for approval, whether it's positively or negatively correlated. What the approval confidence is for certain ranges, etc.\n",
        "\n",
        "**A12**: has a relativley high P-value of 0.45 (probability that difference in observed and expected is due to random chance), but is still < 0.05 and therefor significant enough to be a useful metric."
      ]
    },
    {
      "cell_type": "markdown",
      "metadata": {
        "id": "7eA8dKDFjJmZ",
        "colab_type": "text"
      },
      "source": [
        "####The Most Challenging Part\n",
        "\n",
        "Time management. To a lesser, but still significant extent: selecting and creating effective visualizations to draw and support conclusions."
      ]
    }
  ]
}